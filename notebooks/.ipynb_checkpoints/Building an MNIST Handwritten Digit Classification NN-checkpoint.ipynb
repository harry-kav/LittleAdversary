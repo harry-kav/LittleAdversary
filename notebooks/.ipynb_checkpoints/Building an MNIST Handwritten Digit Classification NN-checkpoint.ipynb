{
 "cells": [
  {
   "cell_type": "markdown",
   "id": "de0a3705",
   "metadata": {},
   "source": [
    "# Building an MNIST Handwritten Digit Classification NN\n",
    "\n",
    "In this notebook, we build a small, feedforward neural network to classify iamges from the MNIST dataset."
   ]
  },
  {
   "cell_type": "code",
   "execution_count": 75,
   "id": "4d9ddfe0",
   "metadata": {},
   "outputs": [],
   "source": [
    "%run \"imports.ipynb\"\n",
    "\n",
    "%run \"attack_utils.ipynb\"\n",
    "%run \"data_utils.ipynb\"\n",
    "%run \"helper_utils.ipynb\"\n",
    "%run \"training_utils.ipynb\"\n",
    "%run \"attack_variants.ipynb\"\n",
    "(x_train, y_train), (x_test, y_test) = mnist.load_data()"
   ]
  },
  {
   "cell_type": "markdown",
   "id": "1f4190ca",
   "metadata": {},
   "source": [
    "### Load the dataset and normalise the data"
   ]
  },
  {
   "cell_type": "code",
   "execution_count": 76,
   "id": "0e0ce071",
   "metadata": {},
   "outputs": [],
   "source": [
    "# normalize the input images by dividing by 255.0\n",
    "x_train = tf.keras.utils.normalize(x_train, axis=1)\n",
    "x_test = tf.keras.utils.normalize(x_test, axis=1)"
   ]
  },
  {
   "cell_type": "code",
   "execution_count": 4,
   "id": "60c05d3b",
   "metadata": {},
   "outputs": [
    {
     "data": {
      "image/png": "[encoded data removed]",
      "text/plain": [
       "<Figure size 432x288 with 1 Axes>"
      ]
     },
     "metadata": {
      "needs_background": "light"
     },
     "output_type": "display_data"
    }
   ],
   "source": [
    "plt.imshow(x_train[2], cmap=plt.cm.binary)\n",
    "plt.show()"
   ]
  },
  {
   "cell_type": "markdown",
   "id": "a2ce7dbd",
   "metadata": {},
   "source": [
    "## Building the model\n",
    "\n",
    "We use Keras' sequential API to build a simple feed-forward neural network with two densely connected layers of 128 neurons, both of which are regularised to reduce overfitting."
   ]
  },
  {
   "cell_type": "code",
   "execution_count": 6,
   "id": "a5b93517",
   "metadata": {},
   "outputs": [],
   "source": [
    "model = tf.keras.models.Sequential()\n",
    "\n",
    "#input layer\n",
    "model.add(tf.keras.layers.Flatten())\n",
    "\n",
    "model.add(tf.keras.layers.Dense(128,activation=tf.nn.relu, activity_regularizer=tf.keras.regularizers.l2(1e-4)))#128 neurons, relu activation function\n",
    "model.add(tf.keras.layers.Dense(128,activation=tf.nn.relu,activity_regularizer=tf.keras.regularizers.l2(1e-4)))\n",
    "\n",
    "#output layer\n",
    "model.add(tf.keras.layers.Dense(10,activation=tf.nn.softmax))#there are 10 possible classifications"
   ]
  },
  {
   "cell_type": "code",
   "execution_count": 7,
   "id": "d490990b",
   "metadata": {},
   "outputs": [],
   "source": [
    "model.compile(\n",
    "    optimizer='adam',\n",
    "    loss='sparse_categorical_crossentropy',\n",
    "    metrics = ['accuracy']\n",
    ")"
   ]
  },
  {
   "cell_type": "markdown",
   "id": "2878059a",
   "metadata": {},
   "source": [
    "## Training the model\n",
    "\n",
    "Now, we train our model for 15 epochs."
   ]
  },
  {
   "cell_type": "code",
   "execution_count": 20,
   "id": "1cfb8f66",
   "metadata": {},
   "outputs": [
    {
     "name": "stdout",
     "output_type": "stream",
     "text": [
      "Epoch 1/15\n",
      "1875/1875 [==============================] - 5s 3ms/step - loss: 0.0179 - accuracy: 0.9964 - val_loss: 0.1146 - val_accuracy: 0.9735\n",
      "Epoch 2/15\n",
      "1875/1875 [==============================] - 5s 3ms/step - loss: 0.0159 - accuracy: 0.9969 - val_loss: 0.1252 - val_accuracy: 0.9745\n",
      "Epoch 3/15\n",
      "1875/1875 [==============================] - 5s 3ms/step - loss: 0.0170 - accuracy: 0.9965 - val_loss: 0.1005 - val_accuracy: 0.9774\n",
      "Epoch 4/15\n",
      "1875/1875 [==============================] - 5s 3ms/step - loss: 0.0146 - accuracy: 0.9974 - val_loss: 0.1072 - val_accuracy: 0.9761\n",
      "Epoch 5/15\n",
      "1875/1875 [==============================] - 5s 3ms/step - loss: 0.0156 - accuracy: 0.9968 - val_loss: 0.1224 - val_accuracy: 0.9747\n",
      "Epoch 6/15\n",
      "1875/1875 [==============================] - 5s 3ms/step - loss: 0.0135 - accuracy: 0.9976 - val_loss: 0.1114 - val_accuracy: 0.9760\n",
      "Epoch 7/15\n",
      "1875/1875 [==============================] - 5s 3ms/step - loss: 0.0123 - accuracy: 0.9982 - val_loss: 0.1232 - val_accuracy: 0.9741\n",
      "Epoch 8/15\n",
      "1875/1875 [==============================] - 5s 3ms/step - loss: 0.0134 - accuracy: 0.9976 - val_loss: 0.1212 - val_accuracy: 0.9741\n",
      "Epoch 9/15\n",
      "1875/1875 [==============================] - 5s 2ms/step - loss: 0.0106 - accuracy: 0.9986 - val_loss: 0.1250 - val_accuracy: 0.9731\n",
      "Epoch 10/15\n",
      "1875/1875 [==============================] - 5s 3ms/step - loss: 0.0141 - accuracy: 0.9971 - val_loss: 0.1220 - val_accuracy: 0.9746\n",
      "Epoch 11/15\n",
      "1875/1875 [==============================] - 5s 3ms/step - loss: 0.0112 - accuracy: 0.9983 - val_loss: 0.1216 - val_accuracy: 0.9750\n",
      "Epoch 12/15\n",
      "1875/1875 [==============================] - 5s 3ms/step - loss: 0.0113 - accuracy: 0.9982 - val_loss: 0.1377 - val_accuracy: 0.9735\n",
      "Epoch 13/15\n",
      "1875/1875 [==============================] - 5s 3ms/step - loss: 0.0085 - accuracy: 0.9992 - val_loss: 0.1226 - val_accuracy: 0.9715\n",
      "Epoch 14/15\n",
      "1875/1875 [==============================] - 5s 3ms/step - loss: 0.0103 - accuracy: 0.9985 - val_loss: 0.1320 - val_accuracy: 0.9766\n",
      "Epoch 15/15\n",
      "1875/1875 [==============================] - 5s 3ms/step - loss: 0.0135 - accuracy: 0.9976 - val_loss: 0.1284 - val_accuracy: 0.9749\n"
     ]
    }
   ],
   "source": [
    "history = model.fit(x_train,y_train,epochs=15, validation_data=[x_test, y_test])"
   ]
  },
  {
   "cell_type": "markdown",
   "id": "1c5b49db",
   "metadata": {},
   "source": [
    "## Evaluating the model\n",
    "\n",
    "Below, we see the loss and accuracy of the model, as well as a plot of the model's training history."
   ]
  },
  {
   "cell_type": "code",
   "execution_count": 21,
   "id": "ac1bc308",
   "metadata": {},
   "outputs": [
    {
     "name": "stdout",
     "output_type": "stream",
     "text": [
      "313/313 [==============================] - 1s 2ms/step - loss: 0.1284 - accuracy: 0.9749\n",
      "Loss: 0.1284046620130539\n",
      "Accuracy: 0.9749000072479248\n"
     ]
    }
   ],
   "source": [
    "val_loss, val_acc = model.evaluate(x_test,y_test)\n",
    "print(\"Loss:\",val_loss)\n",
    "print(\"Accuracy:\",val_acc)"
   ]
  },
  {
   "cell_type": "code",
   "execution_count": 57,
   "id": "410dd63f",
   "metadata": {},
   "outputs": [
    {
     "name": "stdout",
     "output_type": "stream",
     "text": [
      "INFO:tensorflow:Assets written to: FF_digit_classification_model_l2_regularised.model\\assets\n"
     ]
    }
   ],
   "source": [
    "model.save(\"../models/FF_digit_classification_model_l2_regularised.model\")"
   ]
  },
  {
   "cell_type": "code",
   "execution_count": 22,
   "id": "fc598d97",
   "metadata": {},
   "outputs": [
    {
     "data": {
      "image/png": "[encoded data removed]",
      "text/plain": [
       "<Figure size 432x288 with 1 Axes>"
      ]
     },
     "metadata": {
      "needs_background": "light"
     },
     "output_type": "display_data"
    }
   ],
   "source": [
    "plt.plot(history.history['loss'])\n",
    "plt.plot(history.history['val_loss'])\n",
    "plt.title('model loss')\n",
    "plt.ylabel('loss')\n",
    "plt.xlabel('epoch')\n",
    "plt.legend(['train', 'test'], loc='upper left')\n",
    "plt.show()"
   ]
  }
 ],
 "metadata": {
  "kernelspec": {
   "display_name": "Python 3 (ipykernel)",
   "language": "python",
   "name": "python3"
  },
  "language_info": {
   "codemirror_mode": {
    "name": "ipython",
    "version": 3
   },
   "file_extension": ".py",
   "mimetype": "text/x-python",
   "name": "python",
   "nbconvert_exporter": "python",
   "pygments_lexer": "ipython3",
   "version": "3.9.12"
  }
 },
 "nbformat": 4,
 "nbformat_minor": 5
}
