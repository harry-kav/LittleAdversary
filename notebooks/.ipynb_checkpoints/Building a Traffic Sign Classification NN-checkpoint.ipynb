{
 "cells": [
  {
   "cell_type": "markdown",
   "id": "d00d5e45",
   "metadata": {},
   "source": [
    "# Building a Traffic Sign Classification neural network\n",
    "\n",
    "In this notebook, we build a small convolutional neural network to classify traffic signs, replicating real-world autonomous driving systems."
   ]
  },
  {
   "cell_type": "code",
   "execution_count": 1,
   "id": "18f57b8e",
   "metadata": {},
   "outputs": [],
   "source": [
    "%run \"utils_imports.ipynb\" # import libraries and helper functions\n",
    "\n",
    "%run \"utils_attacks.ipynb\"\n",
    "%run \"utils_data.ipynb\"\n",
    "%run \"utils_helper.ipynb\"\n",
    "%run \"utils_training.ipynb\"\n",
    "%run \"siamese_attack_variants.ipynb\""
   ]
  },
  {
   "cell_type": "markdown",
   "id": "0e565d85",
   "metadata": {},
   "source": [
    "## Preprocessing the dataset\n",
    "\n",
    "Firstly, we get our data and preprocess it into train and test sets. The logic behind this can be found in get_traffic_dataset in 'data_utils.ipynb'. The dataset contains 43 different classes of traffic sign."
   ]
  },
  {
   "cell_type": "code",
   "execution_count": 2,
   "id": "820170be",
   "metadata": {},
   "outputs": [],
   "source": [
    "data = []\n",
    "labels = []\n",
    "classes = 43\n",
    "cur_path = os.getcwd()"
   ]
  },
  {
   "cell_type": "code",
   "execution_count": 3,
   "id": "b0a89a9b",
   "metadata": {},
   "outputs": [],
   "source": [
    "# get our dataset- for more detail on the preprocessing, see get_traffic_dataset in data_utils.ipynb\n",
    "traffic_x_train, traffic_x_test, traffic_y_train, traffic_y_test = get_traffic_dataset()"
   ]
  },
  {
   "cell_type": "code",
   "execution_count": 4,
   "id": "fa30b30f",
   "metadata": {},
   "outputs": [
    {
     "data": {
      "image/png": "[encoded data removed]",
      "text/plain": [
       "<Figure size 432x288 with 1 Axes>"
      ]
     },
     "metadata": {
      "needs_background": "light"
     },
     "output_type": "display_data"
    }
   ],
   "source": [
    "plt.imshow(traffic_x_test[0])\n",
    "plt.show()"
   ]
  },
  {
   "cell_type": "markdown",
   "id": "ccf08045",
   "metadata": {},
   "source": [
    "## Building the model\n",
    "\n",
    "We build a convolutional neural network model based on the LeNet architecture, with dropout layers to avoid overfitting."
   ]
  },
  {
   "cell_type": "code",
   "execution_count": 7,
   "id": "04892215",
   "metadata": {},
   "outputs": [],
   "source": [
    "def build_model():\n",
    "    #Building the model\n",
    "    model = Sequential()\n",
    "    model.add(Conv2D(filters=32, kernel_size=(5,5), activation='relu', input_shape=X_train.shape[1:]))\n",
    "    model.add(Conv2D(filters=32, kernel_size=(5,5), activation='relu'))\n",
    "    model.add(MaxPool2D(pool_size=(2, 2)))\n",
    "    model.add(Dropout(rate=0.25))\n",
    "    model.add(Conv2D(filters=64, kernel_size=(3, 3), activation='relu'))\n",
    "    model.add(Conv2D(filters=64, kernel_size=(3, 3), activation='relu'))\n",
    "    model.add(MaxPool2D(pool_size=(2, 2)))\n",
    "    model.add(Dropout(rate=0.25))\n",
    "    model.add(Flatten())\n",
    "    model.add(Dense(256, activation='relu'))\n",
    "    model.add(Dropout(rate=0.5))\n",
    "    model.add(Dense(43, activation='softmax'))\n",
    "    \n",
    "    return model"
   ]
  },
  {
   "cell_type": "code",
   "execution_count": 8,
   "id": "5d92375e",
   "metadata": {},
   "outputs": [],
   "source": [
    "model = build_model()"
   ]
  },
  {
   "cell_type": "code",
   "execution_count": 9,
   "id": "1c6a81f6",
   "metadata": {},
   "outputs": [
    {
     "name": "stdout",
     "output_type": "stream",
     "text": [
      "Model: \"sequential\"\n",
      "_________________________________________________________________\n",
      " Layer (type)                Output Shape              Param #   \n",
      "=================================================================\n",
      " conv2d (Conv2D)             (None, 26, 26, 32)        2432      \n",
      "                                                                 \n",
      " conv2d_1 (Conv2D)           (None, 22, 22, 32)        25632     \n",
      "                                                                 \n",
      " max_pooling2d (MaxPooling2D  (None, 11, 11, 32)       0         \n",
      " )                                                               \n",
      "                                                                 \n",
      " dropout (Dropout)           (None, 11, 11, 32)        0         \n",
      "                                                                 \n",
      " conv2d_2 (Conv2D)           (None, 9, 9, 64)          18496     \n",
      "                                                                 \n",
      " conv2d_3 (Conv2D)           (None, 7, 7, 64)          36928     \n",
      "                                                                 \n",
      " max_pooling2d_1 (MaxPooling  (None, 3, 3, 64)         0         \n",
      " 2D)                                                             \n",
      "                                                                 \n",
      " dropout_1 (Dropout)         (None, 3, 3, 64)          0         \n",
      "                                                                 \n",
      " flatten (Flatten)           (None, 576)               0         \n",
      "                                                                 \n",
      " dense (Dense)               (None, 256)               147712    \n",
      "                                                                 \n",
      " dropout_2 (Dropout)         (None, 256)               0         \n",
      "                                                                 \n",
      " dense_1 (Dense)             (None, 43)                11051     \n",
      "                                                                 \n",
      "=================================================================\n",
      "Total params: 242,251\n",
      "Trainable params: 242,251\n",
      "Non-trainable params: 0\n",
      "_________________________________________________________________\n"
     ]
    }
   ],
   "source": [
    "model.summary()"
   ]
  },
  {
   "cell_type": "markdown",
   "id": "c883f16d",
   "metadata": {},
   "source": [
    "## Training\n",
    "\n",
    "Now, we train our model."
   ]
  },
  {
   "cell_type": "code",
   "execution_count": 10,
   "id": "b368fe02",
   "metadata": {},
   "outputs": [],
   "source": [
    "model.compile(loss='categorical_crossentropy', optimizer='adam', metrics=['accuracy'])"
   ]
  },
  {
   "cell_type": "code",
   "execution_count": 11,
   "id": "9084e680",
   "metadata": {},
   "outputs": [
    {
     "name": "stdout",
     "output_type": "stream",
     "text": [
      "Epoch 1/10\n",
      "981/981 [==============================] - 58s 58ms/step - loss: 1.3155 - accuracy: 0.6275 - val_loss: 0.2025 - val_accuracy: 0.9471\n",
      "Epoch 2/10\n",
      "981/981 [==============================] - 60s 61ms/step - loss: 0.2489 - accuracy: 0.9251 - val_loss: 0.0726 - val_accuracy: 0.9799\n",
      "Epoch 3/10\n",
      "981/981 [==============================] - 59s 61ms/step - loss: 0.1575 - accuracy: 0.9535 - val_loss: 0.0531 - val_accuracy: 0.9857\n",
      "Epoch 4/10\n",
      "981/981 [==============================] - 61s 62ms/step - loss: 0.1210 - accuracy: 0.9636 - val_loss: 0.0444 - val_accuracy: 0.9864\n",
      "Epoch 5/10\n",
      "981/981 [==============================] - 66s 67ms/step - loss: 0.1018 - accuracy: 0.9706 - val_loss: 0.0394 - val_accuracy: 0.9899\n",
      "Epoch 6/10\n",
      "981/981 [==============================] - 63s 64ms/step - loss: 0.0856 - accuracy: 0.9733 - val_loss: 0.0345 - val_accuracy: 0.9921\n",
      "Epoch 7/10\n",
      "981/981 [==============================] - 60s 61ms/step - loss: 0.0806 - accuracy: 0.9770 - val_loss: 0.0359 - val_accuracy: 0.9903\n",
      "Epoch 8/10\n",
      "981/981 [==============================] - 60s 61ms/step - loss: 0.0713 - accuracy: 0.9790 - val_loss: 0.0265 - val_accuracy: 0.9929\n",
      "Epoch 9/10\n",
      "981/981 [==============================] - 58s 59ms/step - loss: 0.0690 - accuracy: 0.9790 - val_loss: 0.0248 - val_accuracy: 0.9932\n",
      "Epoch 10/10\n",
      "981/981 [==============================] - 57s 58ms/step - loss: 0.0595 - accuracy: 0.9821 - val_loss: 0.0268 - val_accuracy: 0.9916\n"
     ]
    }
   ],
   "source": [
    "epochs = 10\n",
    "history = model.fit(traffic_x_train, traffic_y_train, batch_size=32, epochs=epochs, validation_data=(traffic_x_test, traffic_y_test))"
   ]
  },
  {
   "cell_type": "code",
   "execution_count": 12,
   "id": "16a2a6d0",
   "metadata": {},
   "outputs": [],
   "source": [
    "model.save(\"../models/traffic_model/trafficsignNN_normalised.h5\")"
   ]
  },
  {
   "cell_type": "code",
   "execution_count": 5,
   "id": "9fcb5bfd",
   "metadata": {},
   "outputs": [],
   "source": [
    "model = tf.keras.models.load_model(\"../models/traffic_model/trafficsignNN_normalised.h5\")"
   ]
  },
  {
   "cell_type": "markdown",
   "id": "f9bfc34f",
   "metadata": {},
   "source": [
    "# Evaluating the model\n",
    "\n",
    "Here, we observe the training history of the model, and the loss and accuracy against test data. As we can see, the ~98% accuracy on test data shows that this model has been trained successfully."
   ]
  },
  {
   "cell_type": "code",
   "execution_count": 13,
   "id": "3efed16e",
   "metadata": {},
   "outputs": [
    {
     "data": {
      "image/png": "[encoded data removed]",
      "text/plain": [
       "<Figure size 432x288 with 1 Axes>"
      ]
     },
     "metadata": {
      "needs_background": "light"
     },
     "output_type": "display_data"
    }
   ],
   "source": [
    "#plotting graphs for accuracy \n",
    "plt.figure(0)\n",
    "plt.plot(history.history['accuracy'], label='training accuracy')\n",
    "plt.plot(history.history['val_accuracy'], label='val accuracy')\n",
    "plt.title('Accuracy')\n",
    "plt.xlabel('epochs')\n",
    "plt.ylabel('accuracy')\n",
    "plt.legend()\n",
    "plt.show()"
   ]
  },
  {
   "cell_type": "code",
   "execution_count": 14,
   "id": "3ed4f5e0",
   "metadata": {},
   "outputs": [
    {
     "data": {
      "image/png": "[encoded data removed]",
      "text/plain": [
       "<Figure size 432x288 with 1 Axes>"
      ]
     },
     "metadata": {
      "needs_background": "light"
     },
     "output_type": "display_data"
    }
   ],
   "source": [
    "plt.figure(1)\n",
    "plt.plot(history.history['loss'], label='training loss')\n",
    "plt.plot(history.history['val_loss'], label='val loss')\n",
    "plt.title('Loss')\n",
    "plt.xlabel('epochs')\n",
    "plt.ylabel('loss')\n",
    "plt.legend()\n",
    "plt.show()"
   ]
  },
  {
   "cell_type": "code",
   "execution_count": 6,
   "id": "16284e9e",
   "metadata": {},
   "outputs": [],
   "source": [
    "#testing accuracy on test dataset\n",
    "from sklearn.metrics import accuracy_score"
   ]
  },
  {
   "cell_type": "code",
   "execution_count": 7,
   "id": "d807feb5",
   "metadata": {},
   "outputs": [
    {
     "name": "stdout",
     "output_type": "stream",
     "text": [
      "27/27 [==============================] - 1s 20ms/step - loss: 0.0344 - accuracy: 0.9895\n"
     ]
    },
    {
     "data": {
      "text/plain": [
       "[0.034369710832834244, 0.989534854888916]"
      ]
     },
     "execution_count": 7,
     "metadata": {},
     "output_type": "execute_result"
    }
   ],
   "source": [
    "pred = model.predict(traffic_x_test)\n",
    "model.evaluate(traffic_x_test, traffic_y_test)"
   ]
  }
 ],
 "metadata": {
  "kernelspec": {
   "display_name": "Python 3 (ipykernel)",
   "language": "python",
   "name": "python3"
  },
  "language_info": {
   "codemirror_mode": {
    "name": "ipython",
    "version": 3
   },
   "file_extension": ".py",
   "mimetype": "text/x-python",
   "name": "python",
   "nbconvert_exporter": "python",
   "pygments_lexer": "ipython3",
   "version": "3.9.12"
  }
 },
 "nbformat": 4,
 "nbformat_minor": 5
}
