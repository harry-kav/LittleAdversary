{
 "cells": [
  {
   "cell_type": "code",
   "execution_count": 13,
   "id": "9c6050b7",
   "metadata": {},
   "outputs": [],
   "source": [
    "%run \"imports.ipynb\"\n",
    "\n",
    "%run \"attack_utils.ipynb\"\n",
    "%run \"data_utils.ipynb\"\n",
    "%run \"helper_utils.ipynb\"\n",
    "%run \"training_utils.ipynb\"\n",
    "%run \"attack_variants.ipynb\""
   ]
  },
  {
   "cell_type": "code",
   "execution_count": 5,
   "id": "926d8dc1",
   "metadata": {},
   "outputs": [
    {
     "name": "stdout",
     "output_type": "stream",
     "text": [
      "(56, 46, 1)\n",
      "Model: \"model_2\"\n",
      "__________________________________________________________________________________________________\n",
      " Layer (type)                   Output Shape         Param #     Connected to                     \n",
      "==================================================================================================\n",
      " input_5 (InputLayer)           [(None, 56, 46, 1)]  0           []                               \n",
      "                                                                                                  \n",
      " input_6 (InputLayer)           [(None, 56, 46, 1)]  0           []                               \n",
      "                                                                                                  \n",
      " embedding (Sequential)         (None, 128)          200528      ['input_5[0][0]',                \n",
      "                                                                  'input_6[0][0]']                \n",
      "                                                                                                  \n",
      " lambda_2 (Lambda)              (None, 1)            0           ['embedding[0][0]',              \n",
      "                                                                  'embedding[1][0]']              \n",
      "                                                                                                  \n",
      "==================================================================================================\n",
      "Total params: 200,528\n",
      "Trainable params: 200,528\n",
      "Non-trainable params: 0\n",
      "__________________________________________________________________________________________________\n"
     ]
    }
   ],
   "source": [
    "%run \"facerecognitionmodelarchitecture.ipynb\"\n",
    "face_model = model"
   ]
  },
  {
   "cell_type": "code",
   "execution_count": 14,
   "id": "2f4a21de",
   "metadata": {},
   "outputs": [],
   "source": [
    "#loading the library\n",
    "mnist_model = tf.keras.models.load_model(\"../models/FF_digit_classification_model_l2_regularised.model\")\n",
    "speech_model = tf.keras.models.load_model(\"../models/speechcommandsNN\")\n",
    "traffic_model = tf.keras.models.load_model(\"../models/traffic_model/trafficsignNN_normalised.h5\")\n",
    "face_model.load_weights(\"../models/face_siamese_weights/siamesefacepredictorweights.h5\")"
   ]
  },
  {
   "cell_type": "code",
   "execution_count": 15,
   "id": "239fa8d6",
   "metadata": {},
   "outputs": [
    {
     "name": "stdout",
     "output_type": "stream",
     "text": [
      "Commands: ['down' 'go' 'left' 'no' 'right' 'stop' 'up' 'yes']\n",
      "Number of total examples: 8000\n",
      "Number of examples per label: 1000\n",
      "Example file tensor: tf.Tensor(b'..\\\\data\\\\mini_speech_commands\\\\left\\\\ef2578c0_nohash_0.wav', shape=(), dtype=string)\n",
      "Training set size 6400\n",
      "Validation set size 800\n",
      "Test set size 800\n"
     ]
    }
   ],
   "source": [
    "face_x, face_y = get_face_data()\n",
    "face_x_train, face_x_test, face_y_train, face_y_test = train_test_split(face_x, face_y, test_size=.25)\n",
    "\n",
    "mnist_x_train, mnist_x_test, mnist_y_train, mnist_y_test = get_mnist_dataset()\n",
    "traffic_x_train, traffic_x_test, traffic_y_train, traffic_y_test = get_traffic_dataset()\n",
    "speech_x_train, speech_x_test, speech_y_train, speech_y_test = get_speech_dataset()"
   ]
  },
  {
   "cell_type": "code",
   "execution_count": 44,
   "id": "82c0ef58",
   "metadata": {},
   "outputs": [],
   "source": [
    "traffic_model.save_weights('traffic_weights.h5')\n",
    "traffic_weights_path = '../models/traffic_weights/traffic_weights.h5'\n",
    "traffic_adv_datasets = make_adv_datasets(traffic_model,traffic_x_train,traffic_y_train,level=1,one_hot=True,eps=0.2, norm=np.inf, no_y=True)\n"
   ]
  },
  {
   "cell_type": "code",
   "execution_count": 45,
   "id": "7548a3bc",
   "metadata": {},
   "outputs": [
    {
     "name": "stdout",
     "output_type": "stream",
     "text": [
      "fgsm model\n",
      "Epoch 1/15\n",
      "108/108 [==============================] - 5s 47ms/step - loss: 0.2138 - accuracy: 0.9637\n",
      "Epoch 2/15\n",
      "108/108 [==============================] - 5s 44ms/step - loss: 0.1200 - accuracy: 0.9715\n",
      "Epoch 3/15\n",
      "108/108 [==============================] - 5s 45ms/step - loss: 0.0925 - accuracy: 0.9767\n",
      "Epoch 4/15\n",
      "108/108 [==============================] - 5s 48ms/step - loss: 0.0768 - accuracy: 0.9817\n",
      "Epoch 5/15\n",
      "108/108 [==============================] - 8s 72ms/step - loss: 0.0716 - accuracy: 0.9805\n",
      "Epoch 6/15\n",
      "108/108 [==============================] - 8s 72ms/step - loss: 0.0708 - accuracy: 0.9823\n",
      "Epoch 7/15\n",
      "108/108 [==============================] - 8s 70ms/step - loss: 0.0669 - accuracy: 0.9814\n",
      "Epoch 8/15\n",
      "108/108 [==============================] - 8s 70ms/step - loss: 0.0594 - accuracy: 0.9817\n",
      "Epoch 9/15\n",
      "108/108 [==============================] - 8s 69ms/step - loss: 0.0509 - accuracy: 0.9855\n",
      "Epoch 10/15\n",
      "108/108 [==============================] - 8s 70ms/step - loss: 0.0543 - accuracy: 0.9858\n",
      "Epoch 11/15\n",
      "108/108 [==============================] - 6s 57ms/step - loss: 0.0524 - accuracy: 0.9849\n",
      "Epoch 11: early stopping\n",
      "bim model\n",
      "Epoch 1/15\n",
      "108/108 [==============================] - 5s 44ms/step - loss: 0.2703 - accuracy: 0.9634\n",
      "Epoch 2/15\n",
      "108/108 [==============================] - 5s 44ms/step - loss: 0.1291 - accuracy: 0.9727\n",
      "Epoch 3/15\n",
      "108/108 [==============================] - 5s 45ms/step - loss: 0.1173 - accuracy: 0.9698\n",
      "Epoch 4/15\n",
      "108/108 [==============================] - 5s 45ms/step - loss: 0.1038 - accuracy: 0.9753\n",
      "Epoch 5/15\n",
      "108/108 [==============================] - 5s 47ms/step - loss: 0.0872 - accuracy: 0.9765\n",
      "Epoch 6/15\n",
      "108/108 [==============================] - 7s 62ms/step - loss: 0.0690 - accuracy: 0.9823\n",
      "Epoch 7/15\n",
      "108/108 [==============================] - 8s 71ms/step - loss: 0.0547 - accuracy: 0.9843\n",
      "Epoch 8/15\n",
      "108/108 [==============================] - 8s 70ms/step - loss: 0.0575 - accuracy: 0.9828\n",
      "Epoch 9/15\n",
      "108/108 [==============================] - 8s 70ms/step - loss: 0.0516 - accuracy: 0.9846\n",
      "Epoch 10/15\n",
      "108/108 [==============================] - 8s 70ms/step - loss: 0.0430 - accuracy: 0.9869\n",
      "Epoch 11/15\n",
      "108/108 [==============================] - 8s 70ms/step - loss: 0.0573 - accuracy: 0.9855\n",
      "Epoch 12/15\n",
      "108/108 [==============================] - 8s 71ms/step - loss: 0.0344 - accuracy: 0.9895\n",
      "Epoch 13/15\n",
      "108/108 [==============================] - 7s 67ms/step - loss: 0.0450 - accuracy: 0.9843\n",
      "Epoch 14/15\n",
      "108/108 [==============================] - 5s 44ms/step - loss: 0.0531 - accuracy: 0.9831\n",
      "Epoch 14: early stopping\n",
      "pgd model\n",
      "Epoch 1/15\n",
      "108/108 [==============================] - 5s 44ms/step - loss: 0.2800 - accuracy: 0.9552\n",
      "Epoch 2/15\n",
      "108/108 [==============================] - 5s 45ms/step - loss: 0.1506 - accuracy: 0.9689\n",
      "Epoch 3/15\n",
      "108/108 [==============================] - 5s 45ms/step - loss: 0.0977 - accuracy: 0.9750\n",
      "Epoch 4/15\n",
      "108/108 [==============================] - 5s 47ms/step - loss: 0.0871 - accuracy: 0.9797\n",
      "Epoch 5/15\n",
      "108/108 [==============================] - 7s 69ms/step - loss: 0.0560 - accuracy: 0.9849\n",
      "Epoch 6/15\n",
      "108/108 [==============================] - 8s 72ms/step - loss: 0.0721 - accuracy: 0.9817\n",
      "Epoch 7/15\n",
      "108/108 [==============================] - 8s 72ms/step - loss: 0.0761 - accuracy: 0.9805\n",
      "Epoch 7: early stopping\n",
      "mim model\n",
      "Epoch 1/15\n",
      "108/108 [==============================] - 7s 69ms/step - loss: 0.2762 - accuracy: 0.9578\n",
      "Epoch 2/15\n",
      "108/108 [==============================] - 8s 70ms/step - loss: 0.1412 - accuracy: 0.9648\n",
      "Epoch 3/15\n",
      "108/108 [==============================] - 8s 75ms/step - loss: 0.1160 - accuracy: 0.9741\n",
      "Epoch 4/15\n",
      "108/108 [==============================] - 8s 72ms/step - loss: 0.0843 - accuracy: 0.9767\n",
      "Epoch 5/15\n",
      "108/108 [==============================] - 7s 68ms/step - loss: 0.0719 - accuracy: 0.9823\n",
      "Epoch 6/15\n",
      "108/108 [==============================] - 8s 70ms/step - loss: 0.0670 - accuracy: 0.9814\n",
      "Epoch 7/15\n",
      "108/108 [==============================] - 6s 58ms/step - loss: 0.0505 - accuracy: 0.9849\n",
      "Epoch 8/15\n",
      "108/108 [==============================] - 5s 42ms/step - loss: 0.0585 - accuracy: 0.9831\n",
      "Epoch 9/15\n",
      "108/108 [==============================] - 5s 44ms/step - loss: 0.0616 - accuracy: 0.9817\n",
      "Epoch 9: early stopping\n",
      "traffic_weights_fgsm_1.h5\n",
      "27/27 [==============================] - 0s 16ms/step - loss: 6.3972 - accuracy: 0.1116\n",
      "27/27 [==============================] - 0s 15ms/step - loss: 17.0901 - accuracy: 0.0453\n",
      "27/27 [==============================] - 0s 16ms/step - loss: 15.2074 - accuracy: 0.0953\n",
      "27/27 [==============================] - 1s 19ms/step - loss: 17.1055 - accuracy: 0.0198\n",
      "traffic_weights_bim_1.h5\n",
      "27/27 [==============================] - 1s 19ms/step - loss: 4.9428 - accuracy: 0.1128\n",
      "27/27 [==============================] - 1s 19ms/step - loss: 9.8403 - accuracy: 0.0767\n",
      "27/27 [==============================] - 1s 19ms/step - loss: 8.4336 - accuracy: 0.1244\n",
      "27/27 [==============================] - 1s 20ms/step - loss: 9.9596 - accuracy: 0.0500\n",
      "traffic_weights_pgd_1.h5\n",
      "27/27 [==============================] - 0s 17ms/step - loss: 5.1383 - accuracy: 0.1023\n",
      "27/27 [==============================] - 0s 17ms/step - loss: 9.7358 - accuracy: 0.0488\n",
      "27/27 [==============================] - 0s 17ms/step - loss: 8.0837 - accuracy: 0.0930\n",
      "27/27 [==============================] - 0s 17ms/step - loss: 10.4945 - accuracy: 0.0267\n",
      "traffic_weights_mim_1.h5\n",
      "27/27 [==============================] - 0s 17ms/step - loss: 4.8047 - accuracy: 0.1093\n",
      "27/27 [==============================] - 0s 17ms/step - loss: 11.4501 - accuracy: 0.0384\n",
      "27/27 [==============================] - 0s 17ms/step - loss: 10.9027 - accuracy: 0.0756\n",
      "27/27 [==============================] - 1s 18ms/step - loss: 9.6065 - accuracy: 0.0279\n"
     ]
    }
   ],
   "source": [
    "traffic_adv_trained_models = adv_train_models(traffic_model,traffic_weights_path,traffic_adv_datasets, traffic_y_train,level=1,epochs=15)\n",
    "traffic_adv_trained_evals_1 = attack_model_variations(traffic_model,traffic_weights_path, traffic_adv_trained_models,traffic_x_test,traffic_y_test,eps=0.2)"
   ]
  },
  {
   "cell_type": "code",
   "execution_count": 37,
   "id": "a9d3acd9",
   "metadata": {},
   "outputs": [],
   "source": [
    "mnist_adv_train_datasets = make_adv_datasets(mnist_model,mnist_x_train,mnist_y_train,level=1,one_hot=False, eps=0.2, norm=np.inf)\n",
    "mnist_adv_test_datasets = make_adv_datasets(mnist_model,mnist_x_test,mnist_y_test,level=4,one_hot=False, eps=0.2, norm=np.inf)\n",
    "\n",
    "traffic_adv_train_datasets = make_adv_datasets(traffic_model,traffic_x_train,traffic_y_train,level=1,one_hot=True, eps=0.2, norm=np.inf)\n",
    "traffic_adv_test_datasets = make_adv_datasets(traffic_model,traffic_x_test,traffic_y_test,level=4,one_hot=True, eps=0.2, norm=np.inf)\n",
    "\n",
    "speech_adv_train_datasets = make_adv_datasets(speech_model,speech_x_train,speech_y_train,level=1,one_hot=False, eps=0.2, norm=np.inf)\n",
    "speech_adv_test_datasets = make_adv_datasets(speech_model,speech_x_test,speech_y_test,level=4,one_hot=False, eps=0.2, norm=np.inf)\n",
    "\n",
    "speech_adv_train_datasets_resized = []\n",
    "speech_adv_test_datasets_resized = []\n",
    "for dataset in speech_adv_train_datasets:\n",
    "    resized_data = resize_data(dataset[0])\n",
    "    speech_adv_train_datasets_resized.append([resized_data,dataset[1]])\n",
    "for dataset in speech_adv_test_datasets:\n",
    "    resized_data = resize_data(dataset[0])\n",
    "    speech_adv_test_datasets_resized.append([resized_data,dataset[1]])\n",
    "    \n",
    "del speech_adv_train_datasets\n",
    "del speech_adv_test_datasets\n",
    "\n",
    "mnist_adv_train_datasets_siamese, mnist_adv_test_datasets_siamese = get_siamese_datasets(mnist_adv_train_datasets,mnist_adv_test_datasets,expand_dims=True)\n",
    "traffic_adv_train_datasets_siamese, traffic_adv_test_datasets_siamese = get_siamese_datasets(traffic_adv_train_datasets,traffic_adv_test_datasets)\n",
    "speech_adv_train_datasets_siamese, speech_adv_test_datasets_siamese = get_siamese_datasets(speech_adv_train_datasets_resized,speech_adv_test_datasets_resized)\n",
    "\n",
    "del mnist_adv_train_datasets\n",
    "del mnist_adv_test_datasets\n",
    "del traffic_adv_train_datasets\n",
    "del traffic_adv_test_datasets"
   ]
  },
  {
   "cell_type": "code",
   "execution_count": 42,
   "id": "b489ecc4",
   "metadata": {},
   "outputs": [],
   "source": [
    "save_dataset(mnist_adv_train_datasets_siamese,'mnist_adv_train_datasets_siamese')\n",
    "save_dataset(mnist_adv_test_datasets_siamese,'mnist_adv_test_datasets_siamese')\n",
    "save_dataset(traffic_adv_train_datasets_siamese,'traffic_adv_train_datasets_siamese')\n",
    "save_dataset(traffic_adv_test_datasets_siamese,'traffic_adv_test_datasets_siamese')\n",
    "save_dataset(speech_adv_train_datasets_siamese, 'speech_adv_train_datasets_siamese')\n",
    "save_dataset(speech_adv_test_datasets_siamese, 'speech_adv_train_datasets_siamese')"
   ]
  },
  {
   "cell_type": "code",
   "execution_count": 43,
   "id": "92208f6d",
   "metadata": {},
   "outputs": [],
   "source": [
    "mnist_adv_train_datasets_siamese = load_dataset('mnist_adv_train_datasets_siamese')\n",
    "mnist_adv_test_datasets_siamese = load_dataset('mnist_adv_test_datasets_siamese')\n",
    "traffic_adv_train_datasets_siamese = load_dataset('traffic_adv_train_datasets_siamese')\n",
    "traffic_adv_test_datasets_siamese = load_dataset('traffic_adv_test_datasets_siamese')\n",
    "speech_adv_train_datasets_siamese = load_dataset('speech_adv_train_datasets_siamese')\n",
    "speech_adv_test_datasets_siamese = load_dataset('speech_adv_train_datasets_siamese')"
   ]
  },
  {
   "cell_type": "code",
   "execution_count": 50,
   "id": "eab0049b",
   "metadata": {},
   "outputs": [
    {
     "name": "stdout",
     "output_type": "stream",
     "text": [
      "313/313 [==============================] - 0s 1ms/step - loss: 0.3242 - accuracy: 0.9577\n",
      "27/27 [==============================] - 0s 9ms/step - loss: 0.0344 - accuracy: 0.9895\n",
      "25/25 [==============================] - 0s 10ms/step - loss: 0.2767 - accuracy: 0.9175\n"
     ]
    },
    {
     "data": {
      "image/png": "[encoded data removed]",
      "text/plain": [
       "<Figure size 432x288 with 1 Axes>"
      ]
     },
     "metadata": {},
     "output_type": "display_data"
    }
   ],
   "source": [
    "#evaluate the performance of undefended models on clean data\n",
    "mnist_clean_acc = mnist_model.evaluate(mnist_x_test, mnist_y_test)[1]\n",
    "traffic_clean_acc = traffic_model.evaluate(traffic_x_test, traffic_y_test)[1]\n",
    "speech_clean_acc = speech_model.evaluate(speech_x_test, speech_y_test)[1]\n",
    "face_clean_acc, _, _, _ = siamese_model_evaluate(face_model,face_x_test, face_y_test, threshold=0.4)\n",
    "clean_accs = [mnist_clean_acc * 100, traffic_clean_acc * 100, speech_clean_acc * 100, face_clean_acc * 100]\n",
    "clean_accs_titles = ['MNIST', 'Traffic Signs','Voice Commands','Faces']\n",
    "\n",
    "plt.style.use(\"ggplot\")\n",
    "plt.bar(clean_accs_titles, clean_accs)\n",
    "plt.xlabel('Models')\n",
    "plt.ylabel('Accuracy(%)')\n",
    "plt.title(\"Undefended models' accuracy on clean datasets\")\n",
    "plt.show()"
   ]
  },
  {
   "cell_type": "code",
   "execution_count": 54,
   "id": "46560ba1",
   "metadata": {},
   "outputs": [
    {
     "name": "stdout",
     "output_type": "stream",
     "text": [
      "313/313 [==============================] - 0s 1ms/step - loss: 47.2638 - accuracy: 0.0583\n",
      "313/313 [==============================] - 0s 1ms/step - loss: 40.3135 - accuracy: 0.0366\n",
      "313/313 [==============================] - 0s 1ms/step - loss: 29.1802 - accuracy: 0.0413\n",
      "313/313 [==============================] - 1s 2ms/step - loss: 63.0038 - accuracy: 0.0331\n",
      "27/27 [==============================] - 0s 13ms/step - loss: 16.4410 - accuracy: 0.0570\n",
      "27/27 [==============================] - 0s 13ms/step - loss: 33.9000 - accuracy: 0.0047\n",
      "27/27 [==============================] - 0s 13ms/step - loss: 27.6632 - accuracy: 0.0105\n",
      "27/27 [==============================] - 0s 13ms/step - loss: 42.8543 - accuracy: 0.0035\n",
      "25/25 [==============================] - 0s 14ms/step - loss: 24.3207 - accuracy: 0.0587\n",
      "25/25 [==============================] - 0s 14ms/step - loss: 61.2302 - accuracy: 0.0288\n",
      "25/25 [==============================] - 0s 14ms/step - loss: 51.5718 - accuracy: 0.0175\n",
      "25/25 [==============================] - 0s 14ms/step - loss: 77.5945 - accuracy: 0.0225\n"
     ]
    },
    {
     "name": "stderr",
     "output_type": "stream",
     "text": [
      "C:\\Users\\Harry\\AppData\\Local\\Temp\\ipykernel_21392\\623601513.py:6: RuntimeWarning: Mean of empty slice.\n",
      "  return labels[predictions.ravel() < threshold].mean()\n",
      "C:\\Users\\Harry\\AppData\\Roaming\\Python\\Python39\\site-packages\\numpy\\core\\_methods.py:189: RuntimeWarning: invalid value encountered in double_scalars\n",
      "  ret = ret.dtype.type(ret / rcount)\n",
      "C:\\Users\\Harry\\AppData\\Local\\Temp\\ipykernel_21392\\623601513.py:6: RuntimeWarning: Mean of empty slice.\n",
      "  return labels[predictions.ravel() < threshold].mean()\n",
      "C:\\Users\\Harry\\AppData\\Roaming\\Python\\Python39\\site-packages\\numpy\\core\\_methods.py:189: RuntimeWarning: invalid value encountered in double_scalars\n",
      "  ret = ret.dtype.type(ret / rcount)\n",
      "C:\\Users\\Harry\\AppData\\Local\\Temp\\ipykernel_21392\\623601513.py:6: RuntimeWarning: Mean of empty slice.\n",
      "  return labels[predictions.ravel() < threshold].mean()\n",
      "C:\\Users\\Harry\\AppData\\Roaming\\Python\\Python39\\site-packages\\numpy\\core\\_methods.py:189: RuntimeWarning: invalid value encountered in double_scalars\n",
      "  ret = ret.dtype.type(ret / rcount)\n"
     ]
    },
    {
     "data": {
      "image/png": "[encoded data removed]",
      "text/plain": [
       "<Figure size 432x288 with 1 Axes>"
      ]
     },
     "metadata": {},
     "output_type": "display_data"
    }
   ],
   "source": [
    "attacks = ['FGSM','BIM','PGD','MIM']\n",
    "\n",
    "mnist_weights = ['mnist_weights.h5','mnist_weights_fgsm_1.h5','mnist_weights_bim_1.h5','mnist_weights_pgd_1.h5','mnist_weights_mim_1.h5']\n",
    "traffic_weights = ['traffic_weights.h5','traffic_weights_fgsm_1.h5','traffic_weights_bim_1.h5','traffic_weights_pgd_1.h5','traffic_weights_mim_1.h5']\n",
    "speech_weights = ['speech_weights.h5','speech_weights_fgsm_1.h5','speech_weights_bim_1.h5','speech_weights_pgd_1.h5','speech_weights_mim_1.h5']\n",
    "\n",
    "mnist_eval = attack_model(mnist_model,mnist_weights[0], mnist_x_test, mnist_y_test)[1]\n",
    "traffic_eval = attack_model(traffic_model,traffic_weights[0], traffic_x_test, traffic_y_test)[1]\n",
    "speech_eval = attack_model(speech_model,speech_weights[0], speech_x_test, speech_y_test)[1]\n",
    "_,face_eval = attack_model_siamese(face_model, face_x_test, face_y_test)\n",
    "\n",
    "adv_accs = [mean(mnist_eval) * 100, mean(traffic_eval) * 100, mean(speech_eval) * 100, mean(face_eval) * 100]\n",
    "adv_accs_titles = ['MNIST', 'Traffic Signs','Voice Commands','Faces']\n",
    "\n",
    "bar_width = 0.25\n",
    "r1 = np.arange(len(clean_accs))\n",
    "r2 = [x + bar_width for x in r1]\n",
    "\n",
    "plt.style.use(\"ggplot\")\n",
    "plt.bar(r1, clean_accs, color = 'red', width = bar_width, edgecolor = 'white', label='Clean accuracy(%)')\n",
    "plt.bar(r1, adv_accs, color = 'blue', width = bar_width, edgecolor = 'white', label='Adversarial accuracy(%)')\n",
    "plt.xlabel('Models')\n",
    "plt.ylabel('Accuracy(%)')\n",
    "plt.xticks([r + bar_width for r in range(len(clean_accs))], clean_accs_titles)\n",
    "plt.title(\"Undefended models' accuracy on clean datasets\")\n",
    "plt.legend()\n",
    "plt.show()"
   ]
  },
  {
   "cell_type": "code",
   "execution_count": 55,
   "id": "1619bc95",
   "metadata": {},
   "outputs": [
    {
     "name": "stdout",
     "output_type": "stream",
     "text": [
      "mnist_weights_fgsm_1.h5\n",
      "313/313 [==============================] - 0s 1ms/step - loss: 26.6861 - accuracy: 0.1456\n",
      "313/313 [==============================] - 0s 1ms/step - loss: 19.6661 - accuracy: 0.0850\n",
      "313/313 [==============================] - 0s 1ms/step - loss: 12.4201 - accuracy: 0.1677\n",
      "313/313 [==============================] - 0s 2ms/step - loss: 36.5114 - accuracy: 0.0490\n",
      "mnist_weights_bim_1.h5\n",
      "313/313 [==============================] - 0s 1ms/step - loss: 26.2771 - accuracy: 0.1396\n",
      "313/313 [==============================] - 0s 1ms/step - loss: 19.3873 - accuracy: 0.0786\n",
      "313/313 [==============================] - 0s 1ms/step - loss: 12.0393 - accuracy: 0.1587\n",
      "313/313 [==============================] - 0s 2ms/step - loss: 36.2414 - accuracy: 0.0445\n",
      "mnist_weights_pgd_1.h5\n",
      "313/313 [==============================] - 0s 1ms/step - loss: 25.7764 - accuracy: 0.1442\n",
      "313/313 [==============================] - 0s 1ms/step - loss: 18.4043 - accuracy: 0.0881\n",
      "313/313 [==============================] - 0s 1ms/step - loss: 11.5275 - accuracy: 0.1782\n",
      "313/313 [==============================] - 0s 1ms/step - loss: 34.4771 - accuracy: 0.0493\n",
      "mnist_weights_mim_1.h5\n",
      "313/313 [==============================] - 0s 1ms/step - loss: 27.8404 - accuracy: 0.1378\n",
      "313/313 [==============================] - 0s 1ms/step - loss: 20.6097 - accuracy: 0.0785\n",
      "313/313 [==============================] - 0s 1ms/step - loss: 12.7801 - accuracy: 0.1631\n",
      "313/313 [==============================] - 1s 2ms/step - loss: 37.4958 - accuracy: 0.0489\n",
      "traffic_weights_fgsm_1.h5\n",
      "27/27 [==============================] - 0s 11ms/step - loss: 6.3972 - accuracy: 0.1116\n",
      "27/27 [==============================] - 0s 11ms/step - loss: 17.0901 - accuracy: 0.0453\n",
      "27/27 [==============================] - 0s 11ms/step - loss: 14.6049 - accuracy: 0.0837\n",
      "27/27 [==============================] - 0s 12ms/step - loss: 17.1055 - accuracy: 0.0198\n",
      "traffic_weights_bim_1.h5\n",
      "27/27 [==============================] - 0s 11ms/step - loss: 4.9428 - accuracy: 0.1128\n",
      "27/27 [==============================] - 0s 10ms/step - loss: 9.8403 - accuracy: 0.0767\n",
      "27/27 [==============================] - 0s 11ms/step - loss: 9.0881 - accuracy: 0.1058\n",
      "27/27 [==============================] - 0s 12ms/step - loss: 9.9596 - accuracy: 0.0500\n",
      "traffic_weights_pgd_1.h5\n",
      "27/27 [==============================] - 0s 11ms/step - loss: 5.1383 - accuracy: 0.1023\n",
      "27/27 [==============================] - 0s 11ms/step - loss: 9.7358 - accuracy: 0.0488\n",
      "27/27 [==============================] - 0s 11ms/step - loss: 7.7394 - accuracy: 0.1163\n",
      "27/27 [==============================] - 0s 11ms/step - loss: 10.4945 - accuracy: 0.0267\n",
      "traffic_weights_mim_1.h5\n",
      "27/27 [==============================] - 0s 12ms/step - loss: 4.8047 - accuracy: 0.1093\n",
      "27/27 [==============================] - 0s 12ms/step - loss: 11.4501 - accuracy: 0.0384\n",
      "27/27 [==============================] - 0s 12ms/step - loss: 10.3654 - accuracy: 0.0791\n",
      "27/27 [==============================] - 0s 12ms/step - loss: 9.6065 - accuracy: 0.0279\n",
      "speech_weights_fgsm_1.h5\n",
      "25/25 [==============================] - 0s 14ms/step - loss: 15.8187 - accuracy: 0.1037\n",
      "25/25 [==============================] - 0s 14ms/step - loss: 60.1557 - accuracy: 0.0350\n",
      "25/25 [==============================] - 0s 14ms/step - loss: 47.2084 - accuracy: 0.0325\n",
      "25/25 [==============================] - 0s 13ms/step - loss: 75.0498 - accuracy: 0.0250\n",
      "speech_weights_bim_1.h5\n",
      "25/25 [==============================] - 0s 13ms/step - loss: 15.8478 - accuracy: 0.1000\n",
      "25/25 [==============================] - 0s 14ms/step - loss: 56.6898 - accuracy: 0.0300\n",
      "25/25 [==============================] - 0s 14ms/step - loss: 43.7966 - accuracy: 0.0275\n",
      "25/25 [==============================] - 0s 14ms/step - loss: 69.5156 - accuracy: 0.0237\n",
      "speech_weights_pgd_1.h5\n",
      "25/25 [==============================] - 1s 19ms/step - loss: 17.5611 - accuracy: 0.0675\n",
      "25/25 [==============================] - 0s 18ms/step - loss: 62.8528 - accuracy: 0.0325\n",
      "25/25 [==============================] - 1s 24ms/step - loss: 48.2480 - accuracy: 0.0300\n",
      "25/25 [==============================] - 1s 22ms/step - loss: 79.0065 - accuracy: 0.0237\n",
      "speech_weights_mim_1.h5\n",
      "25/25 [==============================] - 0s 12ms/step - loss: 19.7227 - accuracy: 0.0812\n",
      "25/25 [==============================] - 0s 12ms/step - loss: 64.4529 - accuracy: 0.0312\n",
      "25/25 [==============================] - 0s 13ms/step - loss: 50.8711 - accuracy: 0.0213\n",
      "25/25 [==============================] - 0s 12ms/step - loss: 80.9451 - accuracy: 0.0225\n"
     ]
    }
   ],
   "source": [
    "mnist_adv_trained_evals, mnist_adv_trained_accs = attack_model_variations(mnist_model,mnist_weights[0], mnist_weights[1:],mnist_x_test,mnist_y_test,eps=0.2)\n",
    "traffic_adv_trained_evals, traffic_adv_trained_accs = attack_model_variations(traffic_model,traffic_weights[0], traffic_weights[1:],traffic_x_test,traffic_y_test,eps=0.2)\n",
    "speech_adv_trained_evals, speech_adv_trained_accs = attack_model_variations(speech_model,speech_weights[0], speech_weights[1:],speech_x_test,speech_y_test,eps=0.2)"
   ]
  },
  {
   "cell_type": "code",
   "execution_count": 62,
   "id": "d5ed1521",
   "metadata": {},
   "outputs": [
    {
     "name": "stdout",
     "output_type": "stream",
     "text": [
      "[[0.09875000268220901, 0.036249998956918716, 0.01875000074505806, 0.028750000521540642], [0.09624999761581421, 0.03375000134110451, 0.01875000074505806, 0.028750000521540642], [0.06624999642372131, 0.03750000149011612, 0.019999999552965164, 0.027499999850988388], [0.08624999970197678, 0.03375000134110451, 0.017500000074505806, 0.027499999850988388]]\n"
     ]
    }
   ],
   "source": [
    "print(speech_adv_trained_accs)"
   ]
  },
  {
   "cell_type": "code",
   "execution_count": 56,
   "id": "7c07178a",
   "metadata": {},
   "outputs": [
    {
     "name": "stdout",
     "output_type": "stream",
     "text": [
      "mnist_siamese_weights_fgsm_1.h5\n",
      "\n",
      "Model: mnist_siamese_weights_fgsm_1.h5\n",
      "FGSM : Accuracy  0.7233 Precision  0.7332358470858575 AUC  0.7232999999999999  Loss  0.18472692\n",
      "0.7233\n",
      "BIM : Accuracy  0.7905 Precision  0.8227060653188181 AUC  0.7905000000000001  Loss  0.1470783\n",
      "0.7905\n",
      "PGD : Accuracy  0.7522 Precision  0.7781208645787384 AUC  0.7522  Loss  0.1616978\n",
      "0.7522\n",
      "MIM : Accuracy  0.7066 Precision  0.7178405735976381 AUC  0.7066  Loss  0.18754204\n",
      "0.7066\n",
      "mnist_siamese_weights_bim_1.h5\n",
      "\n",
      "Model: mnist_siamese_weights_bim_1.h5\n",
      "FGSM : Accuracy  0.6683 Precision  0.6821034408136767 AUC  0.6682999999999999  Loss  0.20443293\n",
      "0.6683\n",
      "BIM : Accuracy  0.8176 Precision  0.8440207972270364 AUC  0.8175999999999999  Loss  0.13402042\n",
      "0.8176\n",
      "PGD : Accuracy  0.7612 Precision  0.7809810671256454 AUC  0.7611999999999999  Loss  0.16085044\n",
      "0.7612\n",
      "MIM : Accuracy  0.6719 Precision  0.6820588858292734 AUC  0.6719  Loss  0.21078765\n",
      "0.6719\n",
      "mnist_siamese_weights_pgd_1.h5\n",
      "\n",
      "Model: mnist_siamese_weights_pgd_1.h5\n",
      "FGSM : Accuracy  0.6958 Precision  0.7024400330851944 AUC  0.6958  Loss  0.19965477\n",
      "0.6958\n",
      "BIM : Accuracy  0.8031 Precision  0.8400269239398699 AUC  0.8031  Loss  0.13830256\n",
      "0.8031\n",
      "PGD : Accuracy  0.779 Precision  0.8041866550370693 AUC  0.779  Loss  0.15167646\n",
      "0.779\n",
      "MIM : Accuracy  0.7017 Precision  0.7122711008208799 AUC  0.7017000000000001  Loss  0.19840415\n",
      "0.7017\n",
      "mnist_siamese_weights_mim_1.h5\n",
      "\n",
      "Model: mnist_siamese_weights_mim_1.h5\n",
      "FGSM : Accuracy  0.7172 Precision  0.7434977578475336 AUC  0.7172000000000001  Loss  0.18025494\n",
      "0.7172\n",
      "BIM : Accuracy  0.7893 Precision  0.8319944916226761 AUC  0.7893  Loss  0.14038208\n",
      "0.7893\n",
      "PGD : Accuracy  0.7643 Precision  0.8040027605244997 AUC  0.7643  Loss  0.15560862\n",
      "0.7643\n",
      "MIM : Accuracy  0.6929 Precision  0.7241459446897514 AUC  0.6928999999999998  Loss  0.18797103\n",
      "0.6929\n",
      "traffic_siamese_weights_fgsm_1.h5\n",
      "\n",
      "Model: traffic_siamese_weights_fgsm_1.h5\n",
      "FGSM : Accuracy  0.7242 Precision  0.7274756493506493 AUC  0.7242000000000001  Loss  0.18372427\n",
      "0.7242\n",
      "BIM : Accuracy  0.7976 Precision  0.8213822894168467 AUC  0.7976000000000001  Loss  0.14336792\n",
      "0.7976\n",
      "PGD : Accuracy  0.7182 Precision  0.7168124006359301 AUC  0.7182000000000002  Loss  0.194392\n",
      "0.7182\n",
      "MIM : Accuracy  0.7338 Precision  0.7434402332361516 AUC  0.7338  Loss  0.17902045\n",
      "0.7338\n",
      "traffic_siamese_weights_bim_1.h5\n",
      "\n",
      "Model: traffic_siamese_weights_bim_1.h5\n",
      "FGSM : Accuracy  0.6907 Precision  0.6745377997437305 AUC  0.6907  Loss  0.20144917\n",
      "0.6907\n",
      "BIM : Accuracy  0.7593 Precision  0.7773262032085562 AUC  0.7593  Loss  0.1571368\n",
      "0.7593\n",
      "PGD : Accuracy  0.6976 Precision  0.6800291545189504 AUC  0.6976  Loss  0.20640747\n",
      "0.6976\n",
      "MIM : Accuracy  0.7027 Precision  0.6976789545543203 AUC  0.7026999999999999  Loss  0.1888192\n",
      "0.7027\n",
      "traffic_siamese_weights_pgd_1.h5\n",
      "\n",
      "Model: traffic_siamese_weights_pgd_1.h5\n",
      "FGSM : Accuracy  0.7176 Precision  0.7235922729140978 AUC  0.7176000000000001  Loss  0.17960753\n",
      "0.7176\n",
      "BIM : Accuracy  0.7789 Precision  0.8185972127027644 AUC  0.7789  Loss  0.1488281\n",
      "0.7789\n",
      "PGD : Accuracy  0.7456 Precision  0.7444267515923567 AUC  0.7456  Loss  0.17443313\n",
      "0.7456\n",
      "MIM : Accuracy  0.7173 Precision  0.7398984323250165 AUC  0.7172999999999999  Loss  0.18612985\n",
      "0.7173\n",
      "traffic_siamese_weights_mim_1.h5\n",
      "\n",
      "Model: traffic_siamese_weights_mim_1.h5\n",
      "FGSM : Accuracy  0.7074 Precision  0.6966995447647951 AUC  0.7074  Loss  0.19467771\n",
      "0.7074\n",
      "BIM : Accuracy  0.7736 Precision  0.78125 AUC  0.7736000000000001  Loss  0.14932467\n",
      "0.7736\n",
      "PGD : Accuracy  0.734 Precision  0.7056962025316456 AUC  0.734  Loss  0.18959203\n",
      "0.734\n",
      "MIM : Accuracy  0.7246 Precision  0.7271440129449838 AUC  0.7245999999999999  Loss  0.1825251\n",
      "0.7246\n",
      "speech_siamese_weights_fgsm_1.h5\n",
      "\n",
      "Model: speech_siamese_weights_fgsm_1.h5\n",
      "FGSM : Accuracy  0.6153 Precision  0.593269697459958 AUC  0.6153  Loss  0.24759535\n",
      "0.6153\n",
      "BIM : Accuracy  0.6089 Precision  0.5824125927047071 AUC  0.6089  Loss  0.2512613\n",
      "0.6089\n",
      "PGD : Accuracy  0.5574 Precision  0.5415219907407407 AUC  0.5574  Loss  0.28030938\n",
      "0.5574\n",
      "MIM : Accuracy  0.6152 Precision  0.5910240202275601 AUC  0.6152  Loss  0.24856158\n",
      "0.6152\n",
      "speech_siamese_weights_bim_1.h5\n",
      "\n",
      "Model: speech_siamese_weights_bim_1.h5\n",
      "FGSM : Accuracy  0.601 Precision  0.5971901462663587 AUC  0.601  Loss  0.24249561\n",
      "0.601\n",
      "BIM : Accuracy  0.6195 Precision  0.6057334984958415 AUC  0.6195  Loss  0.23723565\n",
      "0.6195\n",
      "PGD : Accuracy  0.6082 Precision  0.5911081172111822 AUC  0.6082  Loss  0.25128692\n",
      "0.6082\n",
      "MIM : Accuracy  0.6283 Precision  0.6147379717402969 AUC  0.6282999999999999  Loss  0.23652805\n",
      "0.6283\n",
      "speech_siamese_weights_pgd_1.h5\n",
      "\n",
      "Model: speech_siamese_weights_pgd_1.h5\n",
      "FGSM : Accuracy  0.6017 Precision  0.5889141458296905 AUC  0.6017000000000001  Loss  0.25084785\n",
      "0.6017\n",
      "BIM : Accuracy  0.6495 Precision  0.6281501800102863 AUC  0.6495000000000001  Loss  0.23333319\n",
      "0.6495\n",
      "PGD : Accuracy  0.5963 Precision  0.5735900962861072 AUC  0.5963  Loss  0.2621251\n",
      "0.5963\n",
      "MIM : Accuracy  0.6231 Precision  0.6108409868539528 AUC  0.6231  Loss  0.24721421\n",
      "0.6231\n",
      "speech_siamese_weights_mim_1.h5\n",
      "\n",
      "Model: speech_siamese_weights_mim_1.h5\n",
      "FGSM : Accuracy  0.5855 Precision  0.5680407448671017 AUC  0.5855  Loss  0.26184648\n",
      "0.5855\n",
      "BIM : Accuracy  0.6149 Precision  0.5905722844080088 AUC  0.6149  Loss  0.24992436\n",
      "0.6149\n",
      "PGD : Accuracy  0.5647 Precision  0.5469044512106713 AUC  0.5647  Loss  0.2758484\n",
      "0.5647\n",
      "MIM : Accuracy  0.6139 Precision  0.5951227659929847 AUC  0.6139  Loss  0.24873257\n",
      "0.6139\n"
     ]
    }
   ],
   "source": [
    "mnist_siamese_weights = ['mnist_siamese_weights.h5','mnist_siamese_weights_fgsm_1.h5','mnist_siamese_weights_bim_1.h5','mnist_siamese_weights_pgd_1.h5','mnist_siamese_weights_mim_1.h5']\n",
    "traffic_siamese_weights = ['traffic_siamese_weights.h5','traffic_siamese_weights_fgsm_1.h5','traffic_siamese_weights_bim_1.h5','traffic_siamese_weights_pgd_1.h5','traffic_siamese_weights_mim_1.h5']\n",
    "speech_siamese_weights = ['speech_siamese_weights.h5','speech_siamese_weights_fgsm_1.h5','speech_siamese_weights_bim_1.h5','speech_siamese_weights_pgd_1.h5','speech_siamese_weights_mim_1.h5']\n",
    "#traffic_siamese_model_architecture = get_siamese_model_architecture(np.asarray(traffic_adv_train_datasets_siamese[0][0][0][0]).shape, embedding_dim=128,conv_size=32,audio=False, kernel_size=3)\n",
    "#speech_siamese_model_architecture = get_siamese_model_architecture(np.asarray(speech_adv_train_datasets_siamese[0][0][0][0]).shape, embedding_dim=128,conv_size=32,audio=False, kernel_size=3)\n",
    "mnist_siamese_evals, mnist_siamese_accs = attack_siamese_models(mnist_siamese_weights[1:],mnist_adv_test_datasets_siamese, threshold=0.4)\n",
    "traffic_siamese_evals, traffic_siamese_accs = attack_siamese_models(traffic_siamese_weights[1:],traffic_adv_test_datasets_siamese, threshold=0.4)\n",
    "speech_siamese_evals, speech_siamese_accs = attack_siamese_models(speech_siamese_weights[1:],speech_adv_test_datasets_siamese, threshold=0.4)"
   ]
  },
  {
   "cell_type": "code",
   "execution_count": 61,
   "id": "44a8547b",
   "metadata": {},
   "outputs": [
    {
     "data": {
      "image/png": "[encoded data removed]",
      "text/plain": [
       "<Figure size 432x288 with 1 Axes>"
      ]
     },
     "metadata": {},
     "output_type": "display_data"
    }
   ],
   "source": [
    "#print(mnist_siamese_accs)\n",
    "#print(mnist_siamese_accs[-4:])\n",
    "mnist_mim_accs = mnist_siamese_accs[-4:]\n",
    "attack_titles = ['FGSM', 'BIM','PGD','MIM']\n",
    "\n",
    "plt.style.use(\"ggplot\")\n",
    "plt.bar(attack_titles, mnist_mim_accs)\n",
    "plt.xlabel('Attacks')\n",
    "plt.ylabel('Accuracy(%)')\n",
    "plt.title(\"MNIST Siamese Verification Model (MIM version) accuracy against each attack\")\n",
    "plt.show()"
   ]
  },
  {
   "cell_type": "code",
   "execution_count": 62,
   "id": "7b5fc2b8",
   "metadata": {},
   "outputs": [],
   "source": [
    "#mean_adv_trained_scores_cnn = [mnist_adv_trained_accs,traffic_adv_trained_accs,speech_adv_trained_accs]\n",
    "#mean_adv_trained_scores_siamese = [mnist_adv_trained_accs,traffic_adv_trained_siamese_acc,speech_adv_trained_siamese_acc]\n",
    "\n",
    "adv_trained_scores_cnn = [mnist_adv_trained_accs,traffic_adv_trained_accs,speech_adv_trained_accs]\n",
    "adv_trained_scores_siamese = [mnist_siamese_accs,traffic_siamese_accs,speech_siamese_accs]\n",
    "\n",
    "#flat_adv_trained_scores_cnn = []\n",
    "#for sublist in adv_trained_scores_cnn:\n",
    "#    for item in sublist:\n",
    "#        flat_adv_trained_scores_cnn.append(item)\n",
    "        \n",
    "flat_adv_trained_scores_siamese = []\n",
    "for sublist in adv_trained_scores_siamese:\n",
    "    for item in sublist:\n",
    "        flat_adv_trained_scores_siamese.append(item)"
   ]
  },
  {
   "cell_type": "code",
   "execution_count": 63,
   "id": "60c95a2f",
   "metadata": {},
   "outputs": [],
   "source": [
    "flat_adv_trained_scores_cnn = [num for sublist in adv_trained_scores_cnn for num in sublist]\n",
    "flat_adv_trained_scores_cnn = [num for sublist in flat_adv_trained_scores_cnn for num in sublist]"
   ]
  },
  {
   "cell_type": "code",
   "execution_count": null,
   "id": "4d9f4238",
   "metadata": {},
   "outputs": [],
   "source": []
  },
  {
   "cell_type": "code",
   "execution_count": 64,
   "id": "4dce0a2b",
   "metadata": {},
   "outputs": [],
   "source": []
  },
  {
   "cell_type": "code",
   "execution_count": 89,
   "id": "c8f08911",
   "metadata": {},
   "outputs": [
    {
     "name": "stdout",
     "output_type": "stream",
     "text": [
      "Shapiro-Wilk test p-values:  0.0009170807898044586  ,  0.042948249727487564 \n",
      "Levene's test p-value:  0.006665343184056501\n"
     ]
    }
   ],
   "source": [
    "_, cnn_p = shapiro(flat_adv_trained_scores_cnn)\n",
    "_, siamese_p = shapiro(flat_adv_trained_scores_siamese)\n",
    "\n",
    "_,p = levene(flat_adv_trained_scores_cnn, flat_adv_trained_scores_siamese)\n",
    "print(\"Shapiro-Wilk test p-values: \",cnn_p,\" , \", siamese_p,\"\\nLevene's test p-value: \", p)"
   ]
  },
  {
   "cell_type": "code",
   "execution_count": 66,
   "id": "44d42707",
   "metadata": {},
   "outputs": [
    {
     "name": "stdout",
     "output_type": "stream",
     "text": [
      "Mann-Whitney U test\n",
      "Models: U-Value = 0.000, p-value = 0.000\n"
     ]
    }
   ],
   "source": [
    "stat, p = mannwhitneyu(flat_adv_trained_scores_cnn,flat_adv_trained_scores_siamese)\n",
    "print('Mann-Whitney U test')\n",
    "print('Models: U-Value = %.3f, p-value = %.3f' %(stat,p))"
   ]
  },
  {
   "cell_type": "code",
   "execution_count": 67,
   "id": "d8658e48",
   "metadata": {},
   "outputs": [],
   "source": []
  },
  {
   "cell_type": "code",
   "execution_count": 84,
   "id": "fa69199d",
   "metadata": {},
   "outputs": [
    {
     "name": "stdout",
     "output_type": "stream",
     "text": [
      "1.0\n"
     ]
    }
   ],
   "source": [
    "c = cliffsdelta(flat_adv_trained_scores_cnn, flat_adv_trained_scores_siamese)\n",
    "print(abs(c))"
   ]
  },
  {
   "cell_type": "code",
   "execution_count": 69,
   "id": "03e54196",
   "metadata": {},
   "outputs": [
    {
     "name": "stdout",
     "output_type": "stream",
     "text": [
      "0.07497814922438313\n",
      "0.6929458333333334\n"
     ]
    }
   ],
   "source": [
    "print(mean(flat_adv_trained_scores_cnn))\n",
    "print(mean(flat_adv_trained_scores_siamese))"
   ]
  },
  {
   "cell_type": "code",
   "execution_count": 86,
   "id": "944bcd2a",
   "metadata": {},
   "outputs": [
    {
     "data": {
      "image/png": "[encoded data removed]",
      "text/plain": [
       "<Figure size 504x360 with 1 Axes>"
      ]
     },
     "metadata": {},
     "output_type": "display_data"
    }
   ],
   "source": [
    "fig, ax = plt.subplots()\n",
    "plt.style.use(\"ggplot\")\n",
    "ax.boxplot([flat_adv_trained_scores_cnn, flat_adv_trained_scores_siamese])\n",
    "ax.set_xticklabels(['Traditionally Adversarially Trained CNNs', 'Siamese Verification Networks'])\n",
    "ax.set_ylabel('Accuracies against adversarial datasets')\n",
    "ax.set_title(\"Mann-Whitney U test\\n U ={:.2f}, p = {:.2f} Absolute Cliff's delta = {:.2f}\".format(stat,p,abs(c)))\n",
    "ax.yaxis.set_major_formatter(mtick.FuncFormatter(lambda y, _:'{:.0%}'.format(y)))\n",
    "fig.set_size_inches(7,5)\n",
    "plt.show()"
   ]
  },
  {
   "cell_type": "code",
   "execution_count": null,
   "id": "4bbfb4f1",
   "metadata": {},
   "outputs": [],
   "source": []
  }
 ],
 "metadata": {
  "kernelspec": {
   "display_name": "Python 3 (ipykernel)",
   "language": "python",
   "name": "python3"
  },
  "language_info": {
   "codemirror_mode": {
    "name": "ipython",
    "version": 3
   },
   "file_extension": ".py",
   "mimetype": "text/x-python",
   "name": "python",
   "nbconvert_exporter": "python",
   "pygments_lexer": "ipython3",
   "version": "3.9.12"
  }
 },
 "nbformat": 4,
 "nbformat_minor": 5
}
